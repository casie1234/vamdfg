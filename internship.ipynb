{
  "cells": [
    {
      "cell_type": "markdown",
      "metadata": {
        "id": "view-in-github",
        "colab_type": "text"
      },
      "source": [
        "<a href=\"https://colab.research.google.com/github/casie1234/vamdfg/blob/main/internship.ipynb\" target=\"_parent\"><img src=\"https://colab.research.google.com/assets/colab-badge.svg\" alt=\"Open In Colab\"/></a>"
      ]
    },
    {
      "cell_type": "markdown",
      "metadata": {
        "id": "DI1uMhQ6xkyd"
      },
      "source": [
        "\n",
        "Title of Project : Hand Written Digit Prediction - Classification"
      ]
    },
    {
      "cell_type": "markdown",
      "metadata": {
        "id": "4H9sGphKxqUz"
      },
      "source": [
        "\n",
        "OBJECTIVE :\n",
        "\n",
        "    The digits dataset consist of 8x8 pixel images of digits. The images attribute of the dataset stores 8x8 arrays of grayscale values for each image. We will use these arrays to visualize the first 4 images. The target attribute of the dataset stores the digit each image represents.\n",
        "\n"
      ]
    },
    {
      "cell_type": "markdown",
      "metadata": {
        "id": "-G9m3ERoyCDf"
      },
      "source": [
        "\n",
        "Data Source:\n",
        "\n",
        "    YBI Foundation DatataSet\n",
        "\n"
      ]
    },
    {
      "cell_type": "markdown",
      "metadata": {
        "id": "9KI4hhk-yP8H"
      },
      "source": [
        "\n",
        "Import Library"
      ]
    },
    {
      "cell_type": "code",
      "execution_count": null,
      "metadata": {
        "id": "PLsSi4layTnx"
      },
      "outputs": [],
      "source": [
        "import pandas as pd\n",
        "import numpy as np\n",
        "import matplotlib.pyplot as plt"
      ]
    },
    {
      "cell_type": "markdown",
      "metadata": {
        "id": "um6GoBpByoh0"
      },
      "source": [
        "IMPORT DATA"
      ]
    },
    {
      "cell_type": "code",
      "execution_count": null,
      "metadata": {
        "id": "BPd5J8PJyrRl"
      },
      "outputs": [],
      "source": [
        "from sklearn.datasets import load_digits\n",
        "df=load_digits()"
      ]
    },
    {
      "cell_type": "markdown",
      "metadata": {
        "id": "Cqh4rvEgzDdh"
      },
      "source": [
        "DESCRIBE DATA"
      ]
    },
    {
      "cell_type": "code",
      "execution_count": null,
      "metadata": {
        "colab": {
          "base_uri": "https://localhost:8080/"
        },
        "id": "PF5cD5HOzFSF",
        "outputId": "6712a2be-8a87-46e4-cc58-5cbdfb1da4b4"
      },
      "outputs": [
        {
          "name": "stdout",
          "output_type": "stream",
          "text": [
            "[[[ 0.  0.  5. ...  1.  0.  0.]\n",
            "  [ 0.  0. 13. ... 15.  5.  0.]\n",
            "  [ 0.  3. 15. ... 11.  8.  0.]\n",
            "  ...\n",
            "  [ 0.  4. 11. ... 12.  7.  0.]\n",
            "  [ 0.  2. 14. ... 12.  0.  0.]\n",
            "  [ 0.  0.  6. ...  0.  0.  0.]]\n",
            "\n",
            " [[ 0.  0.  0. ...  5.  0.  0.]\n",
            "  [ 0.  0.  0. ...  9.  0.  0.]\n",
            "  [ 0.  0.  3. ...  6.  0.  0.]\n",
            "  ...\n",
            "  [ 0.  0.  1. ...  6.  0.  0.]\n",
            "  [ 0.  0.  1. ...  6.  0.  0.]\n",
            "  [ 0.  0.  0. ... 10.  0.  0.]]\n",
            "\n",
            " [[ 0.  0.  0. ... 12.  0.  0.]\n",
            "  [ 0.  0.  3. ... 14.  0.  0.]\n",
            "  [ 0.  0.  8. ... 16.  0.  0.]\n",
            "  ...\n",
            "  [ 0.  9. 16. ...  0.  0.  0.]\n",
            "  [ 0.  3. 13. ... 11.  5.  0.]\n",
            "  [ 0.  0.  0. ... 16.  9.  0.]]\n",
            "\n",
            " ...\n",
            "\n",
            " [[ 0.  0.  1. ...  1.  0.  0.]\n",
            "  [ 0.  0. 13. ...  2.  1.  0.]\n",
            "  [ 0.  0. 16. ... 16.  5.  0.]\n",
            "  ...\n",
            "  [ 0.  0. 16. ... 15.  0.  0.]\n",
            "  [ 0.  0. 15. ... 16.  0.  0.]\n",
            "  [ 0.  0.  2. ...  6.  0.  0.]]\n",
            "\n",
            " [[ 0.  0.  2. ...  0.  0.  0.]\n",
            "  [ 0.  0. 14. ... 15.  1.  0.]\n",
            "  [ 0.  4. 16. ... 16.  7.  0.]\n",
            "  ...\n",
            "  [ 0.  0.  0. ... 16.  2.  0.]\n",
            "  [ 0.  0.  4. ... 16.  2.  0.]\n",
            "  [ 0.  0.  5. ... 12.  0.  0.]]\n",
            "\n",
            " [[ 0.  0. 10. ...  1.  0.  0.]\n",
            "  [ 0.  2. 16. ...  1.  0.  0.]\n",
            "  [ 0.  0. 15. ... 15.  0.  0.]\n",
            "  ...\n",
            "  [ 0.  4. 16. ... 16.  6.  0.]\n",
            "  [ 0.  8. 16. ... 16.  8.  0.]\n",
            "  [ 0.  1.  8. ... 12.  1.  0.]]]\n"
          ]
        }
      ],
      "source": [
        "print(df.images)"
      ]
    },
    {
      "cell_type": "code",
      "execution_count": null,
      "metadata": {
        "colab": {
          "base_uri": "https://localhost:8080/"
        },
        "id": "WIybNOQuzepv",
        "outputId": "8ea9c5d3-418e-47ab-f591-7d9c2b579f2a"
      },
      "outputs": [
        {
          "name": "stdout",
          "output_type": "stream",
          "text": [
            ".. _digits_dataset:\n",
            "\n",
            "Optical recognition of handwritten digits dataset\n",
            "--------------------------------------------------\n",
            "\n",
            "**Data Set Characteristics:**\n",
            "\n",
            "    :Number of Instances: 1797\n",
            "    :Number of Attributes: 64\n",
            "    :Attribute Information: 8x8 image of integer pixels in the range 0..16.\n",
            "    :Missing Attribute Values: None\n",
            "    :Creator: E. Alpaydin (alpaydin '@' boun.edu.tr)\n",
            "    :Date: July; 1998\n",
            "\n",
            "This is a copy of the test set of the UCI ML hand-written digits datasets\n",
            "https://archive.ics.uci.edu/ml/datasets/Optical+Recognition+of+Handwritten+Digits\n",
            "\n",
            "The data set contains images of hand-written digits: 10 classes where\n",
            "each class refers to a digit.\n",
            "\n",
            "Preprocessing programs made available by NIST were used to extract\n",
            "normalized bitmaps of handwritten digits from a preprinted form. From a\n",
            "total of 43 people, 30 contributed to the training set and different 13\n",
            "to the test set. 32x32 bitmaps are divided into nonoverlapping blocks of\n",
            "4x4 and the number of on pixels are counted in each block. This generates\n",
            "an input matrix of 8x8 where each element is an integer in the range\n",
            "0..16. This reduces dimensionality and gives invariance to small\n",
            "distortions.\n",
            "\n",
            "For info on NIST preprocessing routines, see M. D. Garris, J. L. Blue, G.\n",
            "T. Candela, D. L. Dimmick, J. Geist, P. J. Grother, S. A. Janet, and C.\n",
            "L. Wilson, NIST Form-Based Handprint Recognition System, NISTIR 5469,\n",
            "1994.\n",
            "\n",
            "|details-start|\n",
            "**References**\n",
            "|details-split|\n",
            "\n",
            "- C. Kaynak (1995) Methods of Combining Multiple Classifiers and Their\n",
            "  Applications to Handwritten Digit Recognition, MSc Thesis, Institute of\n",
            "  Graduate Studies in Science and Engineering, Bogazici University.\n",
            "- E. Alpaydin, C. Kaynak (1998) Cascading Classifiers, Kybernetika.\n",
            "- Ken Tang and Ponnuthurai N. Suganthan and Xi Yao and A. Kai Qin.\n",
            "  Linear dimensionalityreduction using relevance weighted LDA. School of\n",
            "  Electrical and Electronic Engineering Nanyang Technological University.\n",
            "  2005.\n",
            "- Claudio Gentile. A New Approximate Maximal Margin Classification\n",
            "  Algorithm. NIPS. 2000.\n",
            "\n",
            "|details-end|\n"
          ]
        }
      ],
      "source": [
        "print(df.DESCR)"
      ]
    },
    {
      "cell_type": "code",
      "execution_count": null,
      "metadata": {
        "colab": {
          "base_uri": "https://localhost:8080/"
        },
        "id": "1fsf5E5zzlLd",
        "outputId": "d3be3363-21e0-41b6-8806-f1f5ec869ba1"
      },
      "outputs": [
        {
          "name": "stdout",
          "output_type": "stream",
          "text": [
            "Images shape:  (1797, 8, 8)\n",
            "Target shape:  (1797,)\n"
          ]
        }
      ],
      "source": [
        "print(\"Images shape: \", df.images.shape)\n",
        "print(\"Target shape: \", df.target.shape)"
      ]
    },
    {
      "cell_type": "markdown",
      "metadata": {
        "id": "ovHnILZ8zqy0"
      },
      "source": [
        "DATA VISUALIZATION"
      ]
    },
    {
      "cell_type": "code",
      "execution_count": null,
      "metadata": {
        "colab": {
          "base_uri": "https://localhost:8080/",
          "height": 826
        },
        "id": "RpUPp9f-zt9w",
        "outputId": "7bd9655c-717e-4f81-cce4-8eb38566f37c"
      },
      "outputs": [
        {
          "data": {
            "image/png": "[encoded data removed]",
            "text/plain": [
              "<Figure size 1000x1000 with 25 Axes>"
            ]
          },
          "metadata": {},
          "output_type": "display_data"
        }
      ],
      "source": [
        "plt.figure(figsize=(10, 10))\n",
        "\n",
        "for i in range(25):\n",
        "    plt.subplot(5, 5, i+1)\n",
        "    plt.xticks([])\n",
        "    plt.yticks([])\n",
        "    plt.grid(False)\n",
        "    plt.imshow(df.images[i], cmap=plt.cm.binary)\n",
        "    plt.xlabel(df.target[i])\n",
        "plt.show()"
      ]
    },
    {
      "cell_type": "markdown",
      "metadata": {
        "id": "zOdDBnUEz2VJ"
      },
      "source": [
        "DATA PREPROCESSING"
      ]
    },
    {
      "cell_type": "code",
      "execution_count": null,
      "metadata": {
        "colab": {
          "base_uri": "https://localhost:8080/"
        },
        "id": "xwOUdZ-tz44D",
        "outputId": "56f72b80-3ac6-425b-e61d-702eef56956d"
      },
      "outputs": [
        {
          "data": {
            "text/plain": [
              "(1797, 8, 8)"
            ]
          },
          "execution_count": 7,
          "metadata": {},
          "output_type": "execute_result"
        }
      ],
      "source": [
        "df.images.shape"
      ]
    },
    {
      "cell_type": "code",
      "execution_count": null,
      "metadata": {
        "colab": {
          "base_uri": "https://localhost:8080/"
        },
        "id": "FzQkh7mcz_IO",
        "outputId": "9c7f55c7-8c0d-4715-a858-58f7e0d9e245"
      },
      "outputs": [
        {
          "data": {
            "text/plain": [
              "array([[ 0.,  0.,  5., 13.,  9.,  1.,  0.,  0.],\n",
              "       [ 0.,  0., 13., 15., 10., 15.,  5.,  0.],\n",
              "       [ 0.,  3., 15.,  2.,  0., 11.,  8.,  0.],\n",
              "       [ 0.,  4., 12.,  0.,  0.,  8.,  8.,  0.],\n",
              "       [ 0.,  5.,  8.,  0.,  0.,  9.,  8.,  0.],\n",
              "       [ 0.,  4., 11.,  0.,  1., 12.,  7.,  0.],\n",
              "       [ 0.,  2., 14.,  5., 10., 12.,  0.,  0.],\n",
              "       [ 0.,  0.,  6., 13., 10.,  0.,  0.,  0.]])"
            ]
          },
          "execution_count": 8,
          "metadata": {},
          "output_type": "execute_result"
        }
      ],
      "source": [
        "df.images[0]"
      ]
    },
    {
      "cell_type": "code",
      "execution_count": null,
      "metadata": {
        "colab": {
          "base_uri": "https://localhost:8080/"
        },
        "id": "Xc7v9OeI0EFT",
        "outputId": "8ed06538-b6b4-497d-c7ff-dab76d867eb4"
      },
      "outputs": [
        {
          "data": {
            "text/plain": [
              "(8, 8)"
            ]
          },
          "execution_count": 9,
          "metadata": {},
          "output_type": "execute_result"
        }
      ],
      "source": [
        "df.images[0].shape"
      ]
    },
    {
      "cell_type": "code",
      "execution_count": null,
      "metadata": {
        "colab": {
          "base_uri": "https://localhost:8080/"
        },
        "id": "QJkaN44O0ISd",
        "outputId": "c13a1dd6-ef0b-4ede-9f21-38cf54ba6920"
      },
      "outputs": [
        {
          "data": {
            "text/plain": [
              "1797"
            ]
          },
          "execution_count": 10,
          "metadata": {},
          "output_type": "execute_result"
        }
      ],
      "source": [
        "len(df.images)"
      ]
    },
    {
      "cell_type": "code",
      "execution_count": null,
      "metadata": {
        "id": "9iaf3RuP0OA1"
      },
      "outputs": [],
      "source": [
        "n_samples = len(df.images)\n",
        "data = df.images.reshape((n_samples, -1))"
      ]
    },
    {
      "cell_type": "code",
      "execution_count": null,
      "metadata": {
        "colab": {
          "base_uri": "https://localhost:8080/"
        },
        "id": "StvfXqzM0PpZ",
        "outputId": "f4f39c42-1c4e-4cd8-f10f-6a693577e5f5"
      },
      "outputs": [
        {
          "data": {
            "text/plain": [
              "array([ 0.,  0.,  5., 13.,  9.,  1.,  0.,  0.,  0.,  0., 13., 15., 10.,\n",
              "       15.,  5.,  0.,  0.,  3., 15.,  2.,  0., 11.,  8.,  0.,  0.,  4.,\n",
              "       12.,  0.,  0.,  8.,  8.,  0.,  0.,  5.,  8.,  0.,  0.,  9.,  8.,\n",
              "        0.,  0.,  4., 11.,  0.,  1., 12.,  7.,  0.,  0.,  2., 14.,  5.,\n",
              "       10., 12.,  0.,  0.,  0.,  0.,  6., 13., 10.,  0.,  0.,  0.])"
            ]
          },
          "execution_count": 12,
          "metadata": {},
          "output_type": "execute_result"
        }
      ],
      "source": [
        "data[0]"
      ]
    },
    {
      "cell_type": "code",
      "execution_count": null,
      "metadata": {
        "colab": {
          "base_uri": "https://localhost:8080/"
        },
        "id": "j2Tl-prw0Smj",
        "outputId": "e55dcaf3-92d6-4183-ec1a-59cda4bb0687"
      },
      "outputs": [
        {
          "data": {
            "text/plain": [
              "(64,)"
            ]
          },
          "execution_count": 13,
          "metadata": {},
          "output_type": "execute_result"
        }
      ],
      "source": [
        "\n",
        "\n",
        "data[0].shape\n",
        "\n"
      ]
    },
    {
      "cell_type": "code",
      "execution_count": null,
      "metadata": {
        "colab": {
          "base_uri": "https://localhost:8080/"
        },
        "id": "FAn7X-LA0XC2",
        "outputId": "85e65f73-ef37-4d31-e493-243421d78e54"
      },
      "outputs": [
        {
          "data": {
            "text/plain": [
              "(1797, 64)"
            ]
          },
          "execution_count": 14,
          "metadata": {},
          "output_type": "execute_result"
        }
      ],
      "source": [
        "data.shape"
      ]
    },
    {
      "cell_type": "markdown",
      "metadata": {
        "id": "y5Yve2Wv0f0b"
      },
      "source": [
        "Scaling Image Data"
      ]
    },
    {
      "cell_type": "code",
      "execution_count": null,
      "metadata": {
        "colab": {
          "base_uri": "https://localhost:8080/"
        },
        "id": "EgSsl-iA1gNr",
        "outputId": "d72e4e6e-17d9-477e-d63a-a9e9903faf91"
      },
      "outputs": [
        {
          "data": {
            "text/plain": [
              "0.0"
            ]
          },
          "execution_count": 15,
          "metadata": {},
          "output_type": "execute_result"
        }
      ],
      "source": [
        "data.min()"
      ]
    },
    {
      "cell_type": "code",
      "execution_count": null,
      "metadata": {
        "colab": {
          "base_uri": "https://localhost:8080/"
        },
        "id": "f7EKY9h51h5D",
        "outputId": "fac08d94-3ab9-40b6-d1cd-0379f416db60"
      },
      "outputs": [
        {
          "data": {
            "text/plain": [
              "16.0"
            ]
          },
          "execution_count": 16,
          "metadata": {},
          "output_type": "execute_result"
        }
      ],
      "source": [
        "data.max()"
      ]
    },
    {
      "cell_type": "code",
      "execution_count": null,
      "metadata": {
        "id": "Md7lBvE51lN9"
      },
      "outputs": [],
      "source": [
        "\n",
        "\n",
        "data = data/16\n",
        "\n"
      ]
    },
    {
      "cell_type": "code",
      "execution_count": null,
      "metadata": {
        "colab": {
          "background_save": true
        },
        "id": "MSrfQMp21oHH",
        "outputId": "9d5f316f-8b3d-4771-cb9f-7f3e9eea438f"
      },
      "outputs": [
        {
          "data": {
            "text/plain": [
              "0.0"
            ]
          },
          "execution_count": 18,
          "metadata": {},
          "output_type": "execute_result"
        }
      ],
      "source": [
        "data.min()"
      ]
    },
    {
      "cell_type": "code",
      "execution_count": null,
      "metadata": {
        "id": "-PF7hna716Je",
        "outputId": "00035fc2-b82d-4a00-d5c1-d2b637ff1e42",
        "colab": {
          "base_uri": "https://localhost:8080/"
        }
      },
      "outputs": [
        {
          "output_type": "execute_result",
          "data": {
            "text/plain": [
              "1.0"
            ]
          },
          "metadata": {},
          "execution_count": 28
        }
      ],
      "source": [
        "\n",
        "\n",
        "data.max()\n",
        "\n"
      ]
    },
    {
      "cell_type": "code",
      "source": [
        "data[0]"
      ],
      "metadata": {
        "id": "y7dxUPlP6lhI",
        "outputId": "f0fb5178-9b75-4838-db4f-6c5f58229f21",
        "colab": {
          "base_uri": "https://localhost:8080/"
        }
      },
      "execution_count": null,
      "outputs": [
        {
          "output_type": "execute_result",
          "data": {
            "text/plain": [
              "array([0.    , 0.    , 0.3125, 0.8125, 0.5625, 0.0625, 0.    , 0.    ,\n",
              "       0.    , 0.    , 0.8125, 0.9375, 0.625 , 0.9375, 0.3125, 0.    ,\n",
              "       0.    , 0.1875, 0.9375, 0.125 , 0.    , 0.6875, 0.5   , 0.    ,\n",
              "       0.    , 0.25  , 0.75  , 0.    , 0.    , 0.5   , 0.5   , 0.    ,\n",
              "       0.    , 0.3125, 0.5   , 0.    , 0.    , 0.5625, 0.5   , 0.    ,\n",
              "       0.    , 0.25  , 0.6875, 0.    , 0.0625, 0.75  , 0.4375, 0.    ,\n",
              "       0.    , 0.125 , 0.875 , 0.3125, 0.625 , 0.75  , 0.    , 0.    ,\n",
              "       0.    , 0.    , 0.375 , 0.8125, 0.625 , 0.    , 0.    , 0.    ])"
            ]
          },
          "metadata": {},
          "execution_count": 29
        }
      ]
    },
    {
      "cell_type": "markdown",
      "source": [
        "TRAIN,TEST,SPLIT DATA"
      ],
      "metadata": {
        "id": "UkpLj2Ii6pD8"
      }
    },
    {
      "cell_type": "code",
      "source": [
        "\n",
        "\n",
        "from sklearn.model_selection import train_test_split\n",
        "\n"
      ],
      "metadata": {
        "id": "NSL9llyG76Qu"
      },
      "execution_count": 30,
      "outputs": []
    },
    {
      "cell_type": "code",
      "source": [
        "X_train, X_test, y_train, y_test = train_test_split(data, df.target, test_size=0.3)"
      ],
      "metadata": {
        "id": "nm_RKSVw8ASR"
      },
      "execution_count": 31,
      "outputs": []
    },
    {
      "cell_type": "code",
      "source": [
        "\n",
        "\n",
        "X_train.shape, X_test.shape, y_train.shape, y_test.shape\n",
        "\n"
      ],
      "metadata": {
        "colab": {
          "base_uri": "https://localhost:8080/"
        },
        "id": "n4TFDC3j8DDF",
        "outputId": "30824e5f-d7c1-4721-8d29-db75d6115e11"
      },
      "execution_count": 32,
      "outputs": [
        {
          "output_type": "execute_result",
          "data": {
            "text/plain": [
              "((1257, 64), (540, 64), (1257,), (540,))"
            ]
          },
          "metadata": {},
          "execution_count": 32
        }
      ]
    },
    {
      "cell_type": "markdown",
      "source": [
        "RANDOM FOREST MODEL"
      ],
      "metadata": {
        "id": "zecDKGeN8GHi"
      }
    },
    {
      "cell_type": "code",
      "source": [
        "\n",
        "\n",
        "from sklearn.ensemble import RandomForestClassifier\n",
        "\n"
      ],
      "metadata": {
        "id": "u9X1Pj_E8JJY"
      },
      "execution_count": 33,
      "outputs": []
    },
    {
      "cell_type": "code",
      "source": [
        "\n",
        "\n",
        "rf = RandomForestClassifier()\n",
        "\n"
      ],
      "metadata": {
        "id": "qSGjfqIB8L71"
      },
      "execution_count": 34,
      "outputs": []
    },
    {
      "cell_type": "code",
      "source": [
        "\n",
        "\n",
        "rf.fit(X_train, y_train)\n",
        "\n"
      ],
      "metadata": {
        "colab": {
          "base_uri": "https://localhost:8080/",
          "height": 75
        },
        "id": "eknmioE28OVf",
        "outputId": "64a5138f-0c93-4fe3-8058-6182a1617590"
      },
      "execution_count": 35,
      "outputs": [
        {
          "output_type": "execute_result",
          "data": {
            "text/plain": [
              "RandomForestClassifier()"
            ],
            "text/html": [
              "<style>#sk-container-id-1 {color: black;}#sk-container-id-1 pre{padding: 0;}#sk-container-id-1 div.sk-toggleable {background-color: white;}#sk-container-id-1 label.sk-toggleable__label {cursor: pointer;display: block;width: 100%;margin-bottom: 0;padding: 0.3em;box-sizing: border-box;text-align: center;}#sk-container-id-1 label.sk-toggleable__label-arrow:before {content: \"▸\";float: left;margin-right: 0.25em;color: #696969;}#sk-container-id-1 label.sk-toggleable__label-arrow:hover:before {color: black;}#sk-container-id-1 div.sk-estimator:hover label.sk-toggleable__label-arrow:before {color: black;}#sk-container-id-1 div.sk-toggleable__content {max-height: 0;max-width: 0;overflow: hidden;text-align: left;background-color: #f0f8ff;}#sk-container-id-1 div.sk-toggleable__content pre {margin: 0.2em;color: black;border-radius: 0.25em;background-color: #f0f8ff;}#sk-container-id-1 input.sk-toggleable__control:checked~div.sk-toggleable__content {max-height: 200px;max-width: 100%;overflow: auto;}#sk-container-id-1 input.sk-toggleable__control:checked~label.sk-toggleable__label-arrow:before {content: \"▾\";}#sk-container-id-1 div.sk-estimator input.sk-toggleable__control:checked~label.sk-toggleable__label {background-color: #d4ebff;}#sk-container-id-1 div.sk-label input.sk-toggleable__control:checked~label.sk-toggleable__label {background-color: #d4ebff;}#sk-container-id-1 input.sk-hidden--visually {border: 0;clip: rect(1px 1px 1px 1px);clip: rect(1px, 1px, 1px, 1px);height: 1px;margin: -1px;overflow: hidden;padding: 0;position: absolute;width: 1px;}#sk-container-id-1 div.sk-estimator {font-family: monospace;background-color: #f0f8ff;border: 1px dotted black;border-radius: 0.25em;box-sizing: border-box;margin-bottom: 0.5em;}#sk-container-id-1 div.sk-estimator:hover {background-color: #d4ebff;}#sk-container-id-1 div.sk-parallel-item::after {content: \"\";width: 100%;border-bottom: 1px solid gray;flex-grow: 1;}#sk-container-id-1 div.sk-label:hover label.sk-toggleable__label {background-color: #d4ebff;}#sk-container-id-1 div.sk-serial::before {content: \"\";position: absolute;border-left: 1px solid gray;box-sizing: border-box;top: 0;bottom: 0;left: 50%;z-index: 0;}#sk-container-id-1 div.sk-serial {display: flex;flex-direction: column;align-items: center;background-color: white;padding-right: 0.2em;padding-left: 0.2em;position: relative;}#sk-container-id-1 div.sk-item {position: relative;z-index: 1;}#sk-container-id-1 div.sk-parallel {display: flex;align-items: stretch;justify-content: center;background-color: white;position: relative;}#sk-container-id-1 div.sk-item::before, #sk-container-id-1 div.sk-parallel-item::before {content: \"\";position: absolute;border-left: 1px solid gray;box-sizing: border-box;top: 0;bottom: 0;left: 50%;z-index: -1;}#sk-container-id-1 div.sk-parallel-item {display: flex;flex-direction: column;z-index: 1;position: relative;background-color: white;}#sk-container-id-1 div.sk-parallel-item:first-child::after {align-self: flex-end;width: 50%;}#sk-container-id-1 div.sk-parallel-item:last-child::after {align-self: flex-start;width: 50%;}#sk-container-id-1 div.sk-parallel-item:only-child::after {width: 0;}#sk-container-id-1 div.sk-dashed-wrapped {border: 1px dashed gray;margin: 0 0.4em 0.5em 0.4em;box-sizing: border-box;padding-bottom: 0.4em;background-color: white;}#sk-container-id-1 div.sk-label label {font-family: monospace;font-weight: bold;display: inline-block;line-height: 1.2em;}#sk-container-id-1 div.sk-label-container {text-align: center;}#sk-container-id-1 div.sk-container {/* jupyter's `normalize.less` sets `[hidden] { display: none; }` but bootstrap.min.css set `[hidden] { display: none !important; }` so we also need the `!important` here to be able to override the default hidden behavior on the sphinx rendered scikit-learn.org. See: https://github.com/scikit-learn/scikit-learn/issues/21755 */display: inline-block !important;position: relative;}#sk-container-id-1 div.sk-text-repr-fallback {display: none;}</style><div id=\"sk-container-id-1\" class=\"sk-top-container\"><div class=\"sk-text-repr-fallback\"><pre>RandomForestClassifier()</pre><b>In a Jupyter environment, please rerun this cell to show the HTML representation or trust the notebook. <br />On GitHub, the HTML representation is unable to render, please try loading this page with nbviewer.org.</b></div><div class=\"sk-container\" hidden><div class=\"sk-item\"><div class=\"sk-estimator sk-toggleable\"><input class=\"sk-toggleable__control sk-hidden--visually\" id=\"sk-estimator-id-1\" type=\"checkbox\" checked><label for=\"sk-estimator-id-1\" class=\"sk-toggleable__label sk-toggleable__label-arrow\">RandomForestClassifier</label><div class=\"sk-toggleable__content\"><pre>RandomForestClassifier()</pre></div></div></div></div></div>"
            ]
          },
          "metadata": {},
          "execution_count": 35
        }
      ]
    },
    {
      "cell_type": "markdown",
      "source": [
        "PREDICT TEST DATA"
      ],
      "metadata": {
        "id": "pefKQp1p8SIa"
      }
    },
    {
      "cell_type": "code",
      "source": [
        "\n",
        "\n",
        "y_pred = rf.predict(X_test)\n",
        "\n"
      ],
      "metadata": {
        "id": "0h-ys4LP8VJe"
      },
      "execution_count": 36,
      "outputs": []
    },
    {
      "cell_type": "code",
      "source": [
        "\n",
        "\n",
        "y_pred\n",
        "\n"
      ],
      "metadata": {
        "colab": {
          "base_uri": "https://localhost:8080/"
        },
        "id": "7fnH45kx8X2N",
        "outputId": "0cd8fe9d-05b4-4a11-b1e8-0dceedb2a92b"
      },
      "execution_count": 37,
      "outputs": [
        {
          "output_type": "execute_result",
          "data": {
            "text/plain": [
              "array([0, 6, 7, 1, 5, 6, 8, 5, 4, 3, 8, 2, 3, 9, 3, 6, 0, 1, 0, 5, 0, 4,\n",
              "       4, 9, 0, 2, 6, 8, 3, 1, 9, 5, 0, 8, 3, 6, 2, 3, 1, 5, 6, 0, 1, 5,\n",
              "       0, 9, 5, 3, 5, 6, 6, 3, 2, 8, 7, 6, 7, 6, 2, 4, 8, 9, 1, 2, 1, 2,\n",
              "       8, 3, 9, 6, 0, 4, 7, 8, 7, 9, 7, 8, 1, 9, 7, 2, 5, 5, 9, 5, 9, 4,\n",
              "       0, 7, 4, 4, 8, 4, 9, 8, 3, 9, 7, 7, 2, 2, 6, 1, 6, 1, 5, 9, 0, 1,\n",
              "       0, 8, 1, 1, 3, 8, 6, 0, 4, 6, 3, 2, 8, 0, 6, 3, 7, 5, 2, 0, 0, 6,\n",
              "       6, 1, 5, 4, 3, 0, 1, 5, 3, 9, 0, 0, 8, 6, 0, 4, 4, 4, 3, 3, 2, 8,\n",
              "       1, 3, 8, 5, 8, 7, 9, 5, 3, 6, 6, 9, 5, 5, 1, 5, 3, 9, 2, 0, 6, 3,\n",
              "       2, 0, 6, 5, 5, 6, 4, 9, 6, 1, 9, 4, 3, 6, 8, 5, 5, 6, 2, 9, 9, 1,\n",
              "       3, 3, 2, 3, 1, 7, 5, 9, 9, 6, 3, 9, 1, 7, 8, 1, 2, 3, 3, 8, 3, 9,\n",
              "       8, 2, 5, 8, 4, 1, 7, 7, 9, 8, 2, 0, 5, 6, 8, 0, 7, 1, 3, 6, 7, 0,\n",
              "       3, 8, 1, 7, 7, 9, 8, 5, 1, 8, 2, 1, 1, 7, 7, 7, 2, 2, 3, 1, 0, 4,\n",
              "       0, 7, 7, 7, 8, 6, 4, 3, 7, 3, 9, 0, 1, 6, 2, 0, 4, 6, 7, 4, 8, 0,\n",
              "       9, 0, 4, 7, 1, 8, 0, 9, 6, 8, 3, 8, 9, 9, 4, 5, 4, 8, 8, 2, 2, 7,\n",
              "       9, 7, 8, 4, 9, 8, 6, 2, 1, 3, 7, 5, 2, 2, 3, 7, 0, 1, 7, 1, 4, 7,\n",
              "       3, 1, 1, 3, 5, 4, 1, 5, 7, 5, 3, 3, 3, 9, 9, 3, 5, 9, 9, 1, 7, 9,\n",
              "       7, 1, 2, 5, 0, 4, 7, 2, 7, 9, 2, 6, 3, 0, 7, 9, 9, 5, 7, 8, 7, 8,\n",
              "       3, 1, 4, 5, 5, 8, 7, 2, 7, 6, 1, 9, 7, 1, 8, 2, 2, 1, 0, 2, 2, 2,\n",
              "       0, 2, 5, 1, 8, 5, 1, 8, 1, 6, 3, 0, 8, 0, 7, 8, 6, 5, 4, 5, 7, 8,\n",
              "       4, 2, 3, 3, 1, 4, 5, 6, 5, 7, 6, 6, 9, 1, 2, 1, 2, 5, 3, 0, 0, 5,\n",
              "       9, 4, 4, 8, 9, 4, 9, 0, 3, 3, 3, 0, 9, 2, 9, 1, 5, 2, 3, 1, 7, 5,\n",
              "       7, 5, 2, 8, 6, 0, 4, 0, 1, 1, 4, 8, 0, 3, 5, 2, 8, 7, 5, 6, 2, 9,\n",
              "       0, 0, 3, 3, 0, 3, 9, 2, 3, 4, 7, 0, 7, 2, 2, 3, 9, 8, 0, 4, 6, 9,\n",
              "       5, 4, 4, 6, 2, 0, 5, 4, 3, 9, 2, 5, 0, 0, 4, 7, 4, 4, 2, 6, 9, 4,\n",
              "       8, 8, 4, 1, 2, 7, 2, 2, 0, 6, 1, 8])"
            ]
          },
          "metadata": {},
          "execution_count": 37
        }
      ]
    },
    {
      "cell_type": "markdown",
      "source": [
        "MODEL EVALUATION"
      ],
      "metadata": {
        "id": "DEwpYf9X8cCc"
      }
    },
    {
      "cell_type": "code",
      "source": [
        "\n",
        "\n",
        "from sklearn.metrics import confusion_matrix, classification_report\n",
        "\n"
      ],
      "metadata": {
        "id": "4PDnXa-58eNN"
      },
      "execution_count": 38,
      "outputs": []
    },
    {
      "cell_type": "code",
      "source": [
        "confusion_matrix(y_test, y_pred)"
      ],
      "metadata": {
        "colab": {
          "base_uri": "https://localhost:8080/"
        },
        "id": "Z36MBFFZ8hCG",
        "outputId": "17342b20-2e0d-4c75-a3fc-a3e6c9ecae89"
      },
      "execution_count": 39,
      "outputs": [
        {
          "output_type": "execute_result",
          "data": {
            "text/plain": [
              "array([[55,  0,  0,  0,  0,  0,  0,  0,  0,  0],\n",
              "       [ 0, 51,  0,  0,  0,  0,  0,  0,  0,  0],\n",
              "       [ 0,  0, 56,  0,  0,  0,  0,  0,  0,  0],\n",
              "       [ 0,  0,  0, 59,  0,  1,  0,  0,  0,  0],\n",
              "       [ 0,  0,  0,  0, 46,  0,  0,  0,  0,  0],\n",
              "       [ 0,  0,  0,  0,  1, 52,  0,  0,  0,  1],\n",
              "       [ 0,  0,  0,  0,  0,  0, 47,  0,  0,  0],\n",
              "       [ 0,  0,  0,  0,  0,  0,  0, 54,  0,  1],\n",
              "       [ 0,  3,  0,  0,  0,  0,  1,  1, 53,  0],\n",
              "       [ 0,  1,  0,  1,  0,  1,  0,  1,  1, 53]])"
            ]
          },
          "metadata": {},
          "execution_count": 39
        }
      ]
    },
    {
      "cell_type": "code",
      "source": [
        "\n",
        "\n",
        "print (classification_report(y_test, y_pred))\n",
        "\n"
      ],
      "metadata": {
        "colab": {
          "base_uri": "https://localhost:8080/"
        },
        "id": "lzVTWjfC8lHq",
        "outputId": "befb83ee-809d-4d6b-cebd-3460583db0a5"
      },
      "execution_count": 40,
      "outputs": [
        {
          "output_type": "stream",
          "name": "stdout",
          "text": [
            "              precision    recall  f1-score   support\n",
            "\n",
            "           0       1.00      1.00      1.00        55\n",
            "           1       0.93      1.00      0.96        51\n",
            "           2       1.00      1.00      1.00        56\n",
            "           3       0.98      0.98      0.98        60\n",
            "           4       0.98      1.00      0.99        46\n",
            "           5       0.96      0.96      0.96        54\n",
            "           6       0.98      1.00      0.99        47\n",
            "           7       0.96      0.98      0.97        55\n",
            "           8       0.98      0.91      0.95        58\n",
            "           9       0.96      0.91      0.94        58\n",
            "\n",
            "    accuracy                           0.97       540\n",
            "   macro avg       0.97      0.98      0.97       540\n",
            "weighted avg       0.97      0.97      0.97       540\n",
            "\n"
          ]
        }
      ]
    },
    {
      "cell_type": "markdown",
      "source": [
        "EXPLANATION"
      ],
      "metadata": {
        "id": "-JAyJcvf8thx"
      }
    },
    {
      "cell_type": "markdown",
      "source": [
        "\n",
        "\n",
        "    Confusion Matrix: The confusion matrix is a table that is often used to\n",
        "\n",
        "describe the performance of a classification model (or \"classifier\") on a set of test data for which the true values are known.\n",
        "\n",
        "    In this case, the confusion matrix looks like this:\n",
        "\n",
        "     [[47,  0,  0,  0,  1,  0,  0,  0,  0,  0],\n",
        "      [ 0, 50, ... ],\n",
        "      ...\n",
        "      [ ..., ..., ..., ..., ..., ..., ..., ..., ..., ..., ,46]]\n",
        "\n",
        "    This is a 10x10 matrix because there are 10 classes. The rows represent the actual class and the columns represent the predicted class.\n",
        "\n",
        "    The diagonal elements represent the number of points for which the predicted label is equal to the true label. So for example 47 at position (0,0) indicates that there are 47 instances where the actual output was 0 and the model also correctly predicted them as 0.\n",
        "\n",
        "    Classification Report: This report displays the precision, recall, F1 score and support for each class.\n",
        "\n",
        "        Precision is defined as: (True Positives)/(True Positives + False Positives). It represents how many of our model's positive predictions were actually positive.\n",
        "\n",
        "        Recall (also known as sensitivity) is defined as: (True Positives)/(True Positives + False Negatives). It represents how many of all actual positives were correctly identified by our model.\n",
        "\n",
        "        F1-score is a weighted harmonic mean of precision and recall such that the best score is 1.0 and worst score is 0.\n",
        "\n",
        "        Support refers to number of occurrences of each given class in y_true ( actual test set labels).\n",
        "\n",
        "The 'macro average' is the average of metric calculated independently for each class then taking the average. The 'weighted average' calculates metrics for each label, and finds their average weighted by support (the number of true instances for each label).\n",
        "\n",
        "\n",
        "In this case, the classification report suggests that the model is performing well across all classes with an overall accuracy of 96%. The precision, recall and f1-score are also quite high (>= 90%) for all classes which indicates a good fit."
      ],
      "metadata": {
        "id": "xTBOAEx082pi"
      }
    }
  ],
  "metadata": {
    "colab": {
      "provenance": [],
      "authorship_tag": "ABX9TyMgo8wlgl583uZ3satA4GLm",
      "include_colab_link": true
    },
    "kernelspec": {
      "display_name": "Python 3",
      "name": "python3"
    },
    "language_info": {
      "name": "python"
    }
  },
  "nbformat": 4,
  "nbformat_minor": 0
}